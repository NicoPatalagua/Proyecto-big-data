{
  "nbformat": 4,
  "nbformat_minor": 0,
  "metadata": {
    "colab": {
      "name": "mta_1712.ipynb",
      "provenance": [],
      "include_colab_link": true
    },
    "kernelspec": {
      "name": "python3",
      "display_name": "Python 3"
    }
  },
  "cells": [
    {
      "cell_type": "markdown",
      "metadata": {
        "id": "view-in-github",
        "colab_type": "text"
      },
      "source": [
        "<a href=\"https://colab.research.google.com/github/NicoPatalagua/Proyecto-big-data/blob/master/mta_1712.ipynb\" target=\"_parent\"><img src=\"https://colab.research.google.com/assets/colab-badge.svg\" alt=\"Open In Colab\"/></a>"
      ]
    },
    {
      "cell_type": "code",
      "metadata": {
        "id": "e7eOfGq-pR2R",
        "colab_type": "code",
        "colab": {}
      },
      "source": [
        "import pandas as pd\n",
        "import numpy as np\n",
        "import matplotlib.pyplot as plt"
      ],
      "execution_count": 0,
      "outputs": []
    },
    {
      "cell_type": "code",
      "metadata": {
        "id": "pd9fLVqLpDsQ",
        "colab_type": "code",
        "outputId": "98c8ca79-b6af-4784-d4e3-b03cd2b652d6",
        "colab": {
          "base_uri": "https://localhost:8080/",
          "height": 360
        }
      },
      "source": [
        "ObjData = pd.read_csv(\"mta_1712.csv\")\n",
        "ObjData=pd.DataFrame(ObjData)\n",
        "ObjData.head()"
      ],
      "execution_count": 0,
      "outputs": [
        {
          "output_type": "execute_result",
          "data": {
            "text/html": [
              "<div>\n",
              "<style scoped>\n",
              "    .dataframe tbody tr th:only-of-type {\n",
              "        vertical-align: middle;\n",
              "    }\n",
              "\n",
              "    .dataframe tbody tr th {\n",
              "        vertical-align: top;\n",
              "    }\n",
              "\n",
              "    .dataframe thead th {\n",
              "        text-align: right;\n",
              "    }\n",
              "</style>\n",
              "<table border=\"1\" class=\"dataframe\">\n",
              "  <thead>\n",
              "    <tr style=\"text-align: right;\">\n",
              "      <th></th>\n",
              "      <th>RecordedAtTime</th>\n",
              "      <th>DirectionRef</th>\n",
              "      <th>PublishedLineName</th>\n",
              "      <th>OriginName</th>\n",
              "      <th>OriginLat</th>\n",
              "      <th>OriginLong</th>\n",
              "      <th>DestinationName</th>\n",
              "      <th>DestinationLat</th>\n",
              "      <th>DestinationLong</th>\n",
              "      <th>VehicleRef</th>\n",
              "      <th>VehicleLocation.Latitude</th>\n",
              "      <th>VehicleLocation.Longitude</th>\n",
              "      <th>NextStopPointName</th>\n",
              "      <th>ArrivalProximityText</th>\n",
              "      <th>DistanceFromStop</th>\n",
              "      <th>ExpectedArrivalTime</th>\n",
              "      <th>ScheduledArrivalTime</th>\n",
              "    </tr>\n",
              "  </thead>\n",
              "  <tbody>\n",
              "    <tr>\n",
              "      <th>0</th>\n",
              "      <td>2017-12-01 00:05:49</td>\n",
              "      <td>0</td>\n",
              "      <td>B67</td>\n",
              "      <td>MC DONALD AV/CORTELYOU RD</td>\n",
              "      <td>40.638160</td>\n",
              "      <td>-73.978939</td>\n",
              "      <td>DNTWN BKLYN SANDS ST via FLATBUSH AV</td>\n",
              "      <td>40.700253</td>\n",
              "      <td>-73.987030</td>\n",
              "      <td>NYCT_406</td>\n",
              "      <td>40.671578</td>\n",
              "      <td>-73.977672</td>\n",
              "      <td>7 AV/GARFIELD PL</td>\n",
              "      <td>approaching</td>\n",
              "      <td>130.0</td>\n",
              "      <td>2017-12-01 00:06:21</td>\n",
              "      <td>24:01:30</td>\n",
              "    </tr>\n",
              "    <tr>\n",
              "      <th>1</th>\n",
              "      <td>2017-12-01 00:06:19</td>\n",
              "      <td>1</td>\n",
              "      <td>Bx7</td>\n",
              "      <td>RIVERDALE AV/W 263 ST</td>\n",
              "      <td>40.912363</td>\n",
              "      <td>-73.902699</td>\n",
              "      <td>WASHINGTON HEIGHTS 166 ST via BROADWAY</td>\n",
              "      <td>40.839813</td>\n",
              "      <td>-73.939745</td>\n",
              "      <td>NYCT_4223</td>\n",
              "      <td>40.866243</td>\n",
              "      <td>-73.925258</td>\n",
              "      <td>BROADWAY/ACADEMY ST</td>\n",
              "      <td>at stop</td>\n",
              "      <td>14.0</td>\n",
              "      <td>2017-12-01 00:06:21</td>\n",
              "      <td>23:34:35</td>\n",
              "    </tr>\n",
              "    <tr>\n",
              "      <th>2</th>\n",
              "      <td>2017-12-01 00:05:25</td>\n",
              "      <td>0</td>\n",
              "      <td>S51</td>\n",
              "      <td>LINCOLN AV/RICHMOND RD</td>\n",
              "      <td>40.581245</td>\n",
              "      <td>-74.111990</td>\n",
              "      <td>ST GEORGE FERRY via BAY ST</td>\n",
              "      <td>40.643585</td>\n",
              "      <td>-74.072610</td>\n",
              "      <td>NYCT_7080</td>\n",
              "      <td>40.581364</td>\n",
              "      <td>-74.112033</td>\n",
              "      <td>MIDLAND AV/RICHMOND RD</td>\n",
              "      <td>&lt; 1 stop away</td>\n",
              "      <td>209.0</td>\n",
              "      <td>2017-12-01 00:06:22</td>\n",
              "      <td>24:15:35</td>\n",
              "    </tr>\n",
              "    <tr>\n",
              "      <th>3</th>\n",
              "      <td>2017-12-01 00:05:56</td>\n",
              "      <td>0</td>\n",
              "      <td>M8</td>\n",
              "      <td>WEST ST/CHRISTOPHER ST</td>\n",
              "      <td>40.732847</td>\n",
              "      <td>-74.010081</td>\n",
              "      <td>AVENUE \"D\" CROSSTOWN</td>\n",
              "      <td>40.724689</td>\n",
              "      <td>-73.974548</td>\n",
              "      <td>NYCT_3809</td>\n",
              "      <td>40.734194</td>\n",
              "      <td>-73.999677</td>\n",
              "      <td>GREENWICH AV/CHRISTOPHER ST</td>\n",
              "      <td>at stop</td>\n",
              "      <td>5.0</td>\n",
              "      <td>2017-12-01 00:06:22</td>\n",
              "      <td>24:05:24</td>\n",
              "    </tr>\n",
              "    <tr>\n",
              "      <th>4</th>\n",
              "      <td>2017-12-01 00:06:02</td>\n",
              "      <td>0</td>\n",
              "      <td>M101</td>\n",
              "      <td>ASTOR PL/3 AV</td>\n",
              "      <td>40.729567</td>\n",
              "      <td>-73.990052</td>\n",
              "      <td>FT GEORGE 193 ST via 3 AV</td>\n",
              "      <td>40.855666</td>\n",
              "      <td>-73.925259</td>\n",
              "      <td>NYCT_5902</td>\n",
              "      <td>40.773784</td>\n",
              "      <td>-73.957659</td>\n",
              "      <td>3 AV/E 79 ST</td>\n",
              "      <td>approaching</td>\n",
              "      <td>108.0</td>\n",
              "      <td>2017-12-01 00:06:24</td>\n",
              "      <td>24:03:01</td>\n",
              "    </tr>\n",
              "  </tbody>\n",
              "</table>\n",
              "</div>"
            ],
            "text/plain": [
              "        RecordedAtTime  DirectionRef  ...  ExpectedArrivalTime ScheduledArrivalTime\n",
              "0  2017-12-01 00:05:49             0  ...  2017-12-01 00:06:21             24:01:30\n",
              "1  2017-12-01 00:06:19             1  ...  2017-12-01 00:06:21             23:34:35\n",
              "2  2017-12-01 00:05:25             0  ...  2017-12-01 00:06:22             24:15:35\n",
              "3  2017-12-01 00:05:56             0  ...  2017-12-01 00:06:22             24:05:24\n",
              "4  2017-12-01 00:06:02             0  ...  2017-12-01 00:06:24             24:03:01\n",
              "\n",
              "[5 rows x 17 columns]"
            ]
          },
          "metadata": {
            "tags": []
          },
          "execution_count": 88
        }
      ]
    },
    {
      "cell_type": "code",
      "metadata": {
        "id": "mzOWUwkPp88b",
        "colab_type": "code",
        "outputId": "3d44720c-2a72-4faf-d15d-695133cb9fff",
        "colab": {
          "base_uri": "https://localhost:8080/",
          "height": 173
        }
      },
      "source": [
        "ObjData=ObjData.drop(['DirectionRef','PublishedLineName','OriginName',\n",
        "                      'OriginLat','OriginLong','DestinationName','DestinationLat',\t\n",
        "                      'DestinationLong','VehicleLocation.Latitude',\t\n",
        "                      'VehicleLocation.Longitude','NextStopPointName',\t\n",
        "                      'ArrivalProximityText','DistanceFromStop',\n",
        "                      'ScheduledArrivalTime','VehicleRef'],axis=1)\n",
        "ObjData.head(4)"
      ],
      "execution_count": 0,
      "outputs": [
        {
          "output_type": "execute_result",
          "data": {
            "text/html": [
              "<div>\n",
              "<style scoped>\n",
              "    .dataframe tbody tr th:only-of-type {\n",
              "        vertical-align: middle;\n",
              "    }\n",
              "\n",
              "    .dataframe tbody tr th {\n",
              "        vertical-align: top;\n",
              "    }\n",
              "\n",
              "    .dataframe thead th {\n",
              "        text-align: right;\n",
              "    }\n",
              "</style>\n",
              "<table border=\"1\" class=\"dataframe\">\n",
              "  <thead>\n",
              "    <tr style=\"text-align: right;\">\n",
              "      <th></th>\n",
              "      <th>RecordedAtTime</th>\n",
              "      <th>ExpectedArrivalTime</th>\n",
              "    </tr>\n",
              "  </thead>\n",
              "  <tbody>\n",
              "    <tr>\n",
              "      <th>0</th>\n",
              "      <td>2017-12-01 00:05:49</td>\n",
              "      <td>2017-12-01 00:06:21</td>\n",
              "    </tr>\n",
              "    <tr>\n",
              "      <th>1</th>\n",
              "      <td>2017-12-01 00:06:19</td>\n",
              "      <td>2017-12-01 00:06:21</td>\n",
              "    </tr>\n",
              "    <tr>\n",
              "      <th>2</th>\n",
              "      <td>2017-12-01 00:05:25</td>\n",
              "      <td>2017-12-01 00:06:22</td>\n",
              "    </tr>\n",
              "    <tr>\n",
              "      <th>3</th>\n",
              "      <td>2017-12-01 00:05:56</td>\n",
              "      <td>2017-12-01 00:06:22</td>\n",
              "    </tr>\n",
              "  </tbody>\n",
              "</table>\n",
              "</div>"
            ],
            "text/plain": [
              "        RecordedAtTime  ExpectedArrivalTime\n",
              "0  2017-12-01 00:05:49  2017-12-01 00:06:21\n",
              "1  2017-12-01 00:06:19  2017-12-01 00:06:21\n",
              "2  2017-12-01 00:05:25  2017-12-01 00:06:22\n",
              "3  2017-12-01 00:05:56  2017-12-01 00:06:22"
            ]
          },
          "metadata": {
            "tags": []
          },
          "execution_count": 32
        }
      ]
    },
    {
      "cell_type": "code",
      "metadata": {
        "id": "Nwxc4LoQu1rn",
        "colab_type": "code",
        "outputId": "07cb9e03-fefb-481a-9d8e-ea6aa59cc549",
        "colab": {
          "base_uri": "https://localhost:8080/",
          "height": 204
        }
      },
      "source": [
        "ObjData=ObjData.dropna()\n",
        "ObjData['RecordedAtTime']=pd.to_datetime(ObjData['RecordedAtTime'])\n",
        "ObjData['ExpectedArrivalTime']=pd.to_datetime(ObjData['ExpectedArrivalTime'])\n",
        "ObjData['RecordedAtTime']= [d.time() for d in ObjData['RecordedAtTime']]\n",
        "ObjData['ExpectedArrivalTime']= [d.time() for d in ObjData['ExpectedArrivalTime']]\n",
        "ObjData.head()"
      ],
      "execution_count": 0,
      "outputs": [
        {
          "output_type": "execute_result",
          "data": {
            "text/html": [
              "<div>\n",
              "<style scoped>\n",
              "    .dataframe tbody tr th:only-of-type {\n",
              "        vertical-align: middle;\n",
              "    }\n",
              "\n",
              "    .dataframe tbody tr th {\n",
              "        vertical-align: top;\n",
              "    }\n",
              "\n",
              "    .dataframe thead th {\n",
              "        text-align: right;\n",
              "    }\n",
              "</style>\n",
              "<table border=\"1\" class=\"dataframe\">\n",
              "  <thead>\n",
              "    <tr style=\"text-align: right;\">\n",
              "      <th></th>\n",
              "      <th>RecordedAtTime</th>\n",
              "      <th>ExpectedArrivalTime</th>\n",
              "    </tr>\n",
              "  </thead>\n",
              "  <tbody>\n",
              "    <tr>\n",
              "      <th>0</th>\n",
              "      <td>00:05:49</td>\n",
              "      <td>00:06:21</td>\n",
              "    </tr>\n",
              "    <tr>\n",
              "      <th>1</th>\n",
              "      <td>00:06:19</td>\n",
              "      <td>00:06:21</td>\n",
              "    </tr>\n",
              "    <tr>\n",
              "      <th>2</th>\n",
              "      <td>00:05:25</td>\n",
              "      <td>00:06:22</td>\n",
              "    </tr>\n",
              "    <tr>\n",
              "      <th>3</th>\n",
              "      <td>00:05:56</td>\n",
              "      <td>00:06:22</td>\n",
              "    </tr>\n",
              "    <tr>\n",
              "      <th>4</th>\n",
              "      <td>00:06:02</td>\n",
              "      <td>00:06:24</td>\n",
              "    </tr>\n",
              "  </tbody>\n",
              "</table>\n",
              "</div>"
            ],
            "text/plain": [
              "  RecordedAtTime ExpectedArrivalTime\n",
              "0       00:05:49            00:06:21\n",
              "1       00:06:19            00:06:21\n",
              "2       00:05:25            00:06:22\n",
              "3       00:05:56            00:06:22\n",
              "4       00:06:02            00:06:24"
            ]
          },
          "metadata": {
            "tags": []
          },
          "execution_count": 33
        }
      ]
    },
    {
      "cell_type": "code",
      "metadata": {
        "id": "vVtuEvVwBIjh",
        "colab_type": "code",
        "outputId": "d0c60003-0603-4d67-c3cb-c410034cb639",
        "colab": {
          "base_uri": "https://localhost:8080/",
          "height": 418
        }
      },
      "source": [
        "from sklearn import preprocessing\n",
        "from sklearn.model_selection import train_test_split\n",
        "for column in ObjData.columns:\n",
        "    if ObjData[column].dtype == type(object):\n",
        "        ObjRd = preprocessing.LabelEncoder()\n",
        "        ObjData[column] = ObjRd.fit_transform(ObjData[column].astype(str))\n",
        "ObjData = ObjData.fillna(0)\n",
        "ObjData.columns = [str(i) for i in range(0,2)]\n",
        "attributes = ObjData.drop('0', axis=1)\n",
        "labels = ObjData['0']    \n",
        "att_train,att_test,lab_train,lab_test=train_test_split(attributes,labels,test_size =0.3)\n",
        "ObjData"
      ],
      "execution_count": 0,
      "outputs": [
        {
          "output_type": "execute_result",
          "data": {
            "text/html": [
              "<div>\n",
              "<style scoped>\n",
              "    .dataframe tbody tr th:only-of-type {\n",
              "        vertical-align: middle;\n",
              "    }\n",
              "\n",
              "    .dataframe tbody tr th {\n",
              "        vertical-align: top;\n",
              "    }\n",
              "\n",
              "    .dataframe thead th {\n",
              "        text-align: right;\n",
              "    }\n",
              "</style>\n",
              "<table border=\"1\" class=\"dataframe\">\n",
              "  <thead>\n",
              "    <tr style=\"text-align: right;\">\n",
              "      <th></th>\n",
              "      <th>0</th>\n",
              "      <th>1</th>\n",
              "    </tr>\n",
              "  </thead>\n",
              "  <tbody>\n",
              "    <tr>\n",
              "      <th>0</th>\n",
              "      <td>19</td>\n",
              "      <td>0</td>\n",
              "    </tr>\n",
              "    <tr>\n",
              "      <th>1</th>\n",
              "      <td>49</td>\n",
              "      <td>0</td>\n",
              "    </tr>\n",
              "    <tr>\n",
              "      <th>2</th>\n",
              "      <td>4</td>\n",
              "      <td>1</td>\n",
              "    </tr>\n",
              "    <tr>\n",
              "      <th>3</th>\n",
              "      <td>26</td>\n",
              "      <td>1</td>\n",
              "    </tr>\n",
              "    <tr>\n",
              "      <th>4</th>\n",
              "      <td>32</td>\n",
              "      <td>3</td>\n",
              "    </tr>\n",
              "    <tr>\n",
              "      <th>...</th>\n",
              "      <td>...</td>\n",
              "      <td>...</td>\n",
              "    </tr>\n",
              "    <tr>\n",
              "      <th>15128</th>\n",
              "      <td>1517</td>\n",
              "      <td>2691</td>\n",
              "    </tr>\n",
              "    <tr>\n",
              "      <th>15129</th>\n",
              "      <td>1514</td>\n",
              "      <td>2747</td>\n",
              "    </tr>\n",
              "    <tr>\n",
              "      <th>15130</th>\n",
              "      <td>1536</td>\n",
              "      <td>2675</td>\n",
              "    </tr>\n",
              "    <tr>\n",
              "      <th>15131</th>\n",
              "      <td>1518</td>\n",
              "      <td>2724</td>\n",
              "    </tr>\n",
              "    <tr>\n",
              "      <th>15132</th>\n",
              "      <td>1515</td>\n",
              "      <td>2671</td>\n",
              "    </tr>\n",
              "  </tbody>\n",
              "</table>\n",
              "<p>13511 rows × 2 columns</p>\n",
              "</div>"
            ],
            "text/plain": [
              "          0     1\n",
              "0        19     0\n",
              "1        49     0\n",
              "2         4     1\n",
              "3        26     1\n",
              "4        32     3\n",
              "...     ...   ...\n",
              "15128  1517  2691\n",
              "15129  1514  2747\n",
              "15130  1536  2675\n",
              "15131  1518  2724\n",
              "15132  1515  2671\n",
              "\n",
              "[13511 rows x 2 columns]"
            ]
          },
          "metadata": {
            "tags": []
          },
          "execution_count": 35
        }
      ]
    },
    {
      "cell_type": "code",
      "metadata": {
        "id": "8RXaKDVfIjOf",
        "colab_type": "code",
        "colab": {}
      },
      "source": [
        "from sklearn.metrics import accuracy_score,precision_score,recall_score,f1_score"
      ],
      "execution_count": 0,
      "outputs": []
    },
    {
      "cell_type": "code",
      "metadata": {
        "id": "r5BHhHIZIy3M",
        "colab_type": "code",
        "outputId": "6b0d3d37-77c4-4323-a3b2-f45f5f507bb3",
        "colab": {
          "base_uri": "https://localhost:8080/",
          "height": 179
        }
      },
      "source": [
        "from sklearn import tree\n",
        "clf = tree.DecisionTreeClassifier()\n",
        "clf.fit(att_train, lab_train)\n",
        "lab_pred= clf.predict(att_test)\n",
        "print(\"Decision Tree Classifier\")\n",
        "print(\"\\nAccuracy Score: \"+ str(accuracy_score(lab_test,lab_pred)))\n",
        "print(\"\\nPrecision Score: \"+str(precision_score(lab_test,lab_pred,average='macro',zero_division=1)))\n",
        "print(\"\\nRecall: \"+str(recall_score(lab_test,lab_pred, average='macro',zero_division=1)))\n",
        "print(\"\\nF1 Score: \"+str(f1_score(lab_test,lab_pred, average='macro')))"
      ],
      "execution_count": 0,
      "outputs": [
        {
          "output_type": "stream",
          "text": [
            "Decision Tree Classifier\n",
            "\n",
            "Accuracy Score: 0.029107054760730142\n",
            "\n",
            "Precision Score: 0.4325775891617226\n",
            "\n",
            "Recall: 0.10009333432230628\n",
            "\n",
            "F1 Score: 0.012122540250743063\n"
          ],
          "name": "stdout"
        }
      ]
    },
    {
      "cell_type": "code",
      "metadata": {
        "id": "rEnWZ3tpJjtD",
        "colab_type": "code",
        "outputId": "d419aa2a-e919-4039-98b4-d7ee6ac33632",
        "colab": {
          "base_uri": "https://localhost:8080/",
          "height": 179
        }
      },
      "source": [
        "from sklearn.ensemble import RandomForestClassifier\n",
        "clf = RandomForestClassifier(n_estimators=50)\n",
        "clf.fit(att_train, lab_train)\n",
        "lab_pred = clf.predict(att_test)\n",
        "print(\"Random Forest Classifier\")\n",
        "print(\"\\nAccuracy Score: \"+ str(accuracy_score(lab_test,lab_pred)))\n",
        "print(\"\\nPrecision Score: \"+str(precision_score(lab_test,lab_pred,average='macro',zero_division=1)))\n",
        "print(\"\\nRecall: \"+str(recall_score(lab_test,lab_pred, average='macro',zero_division=1)))\n",
        "print(\"\\nF1 Score: \"+str(f1_score(lab_test,lab_pred, average='macro')))"
      ],
      "execution_count": 0,
      "outputs": [
        {
          "output_type": "stream",
          "text": [
            "Random Forest Classifier\n",
            "\n",
            "Accuracy Score: 0.034040453872718306\n",
            "\n",
            "Precision Score: 0.4388480732693117\n",
            "\n",
            "Recall: 0.09306283884359594\n",
            "\n",
            "F1 Score: 0.014867330501123576\n"
          ],
          "name": "stdout"
        }
      ]
    },
    {
      "cell_type": "code",
      "metadata": {
        "id": "phB-xJqXKHvs",
        "colab_type": "code",
        "outputId": "6fd93160-b071-427f-d938-4a6ff2cfdf62",
        "colab": {
          "base_uri": "https://localhost:8080/",
          "height": 179
        }
      },
      "source": [
        "from sklearn.ensemble import RandomForestClassifier\n",
        "clf = RandomForestClassifier(n_estimators=100, criterion='gini', \n",
        "                             max_depth=None, min_samples_split=2, \n",
        "                             min_samples_leaf=1, min_weight_fraction_leaf=0.0, \n",
        "                             max_features='auto', max_leaf_nodes=None, \n",
        "                             min_impurity_decrease=0.0, min_impurity_split=None,\n",
        "                             bootstrap=True, oob_score=False, n_jobs=None, \n",
        "                             random_state=None, verbose=0, warm_start=False, \n",
        "                             class_weight=None, ccp_alpha=0.0, max_samples=None)\n",
        "clf.fit(att_train, lab_train)\n",
        "lab_pred = clf.predict(att_test)\n",
        "print(\"New Random Forest Classifier\")\n",
        "print(\"\\nAccuracy Score: \"+ str(accuracy_score(lab_test,lab_pred)))\n",
        "print(\"\\nPrecision Score: \"+str(precision_score(lab_test,lab_pred,average='macro',zero_division=1)))\n",
        "print(\"\\nRecall: \"+str(recall_score(lab_test,lab_pred, average='macro',zero_division=1)))\n",
        "print(\"\\nF1 Score: \"+str(f1_score(lab_test,lab_pred, average='macro')))"
      ],
      "execution_count": 0,
      "outputs": [
        {
          "output_type": "stream",
          "text": [
            "New Random Forest Classifier\n",
            "\n",
            "Accuracy Score: 0.033793783917118896\n",
            "\n",
            "Precision Score: 0.4328525146687166\n",
            "\n",
            "Recall: 0.09395133366764571\n",
            "\n",
            "F1 Score: 0.016163191297741703\n"
          ],
          "name": "stdout"
        }
      ]
    },
    {
      "cell_type": "code",
      "metadata": {
        "id": "hwg6opywLz69",
        "colab_type": "code",
        "outputId": "0dd2e58c-056c-49b5-b550-1c5cfc1d4a05",
        "colab": {
          "base_uri": "https://localhost:8080/",
          "height": 179
        }
      },
      "source": [
        "from sklearn.naive_bayes import GaussianNB\n",
        "clf = GaussianNB()\n",
        "clf.fit(att_train, lab_train)\n",
        "lab_pred = clf.predict(att_test)\n",
        "print(\"GaussianNB Classifier\")\n",
        "print(\"\\nAccuracy Score: \"+ str(accuracy_score(lab_test,lab_pred)))\n",
        "print(\"\\nPrecision Score: \"+str(precision_score(lab_test,lab_pred,average='macro',zero_division=1)))\n",
        "print(\"\\nRecall: \"+str(recall_score(lab_test,lab_pred, average='macro',zero_division=1)))\n",
        "print(\"\\nF1 Score: \"+str(f1_score(lab_test,lab_pred, average='macro')))"
      ],
      "execution_count": 0,
      "outputs": [
        {
          "output_type": "stream",
          "text": [
            "GaussianNB Classifier\n",
            "\n",
            "Accuracy Score: 0.023926985693142576\n",
            "\n",
            "Precision Score: 0.7638894611974348\n",
            "\n",
            "Recall: 0.07908101356788708\n",
            "\n",
            "F1 Score: 0.007588644511158305\n"
          ],
          "name": "stdout"
        }
      ]
    },
    {
      "cell_type": "code",
      "metadata": {
        "id": "nnU-Uo9XPbxD",
        "colab_type": "code",
        "outputId": "29138f18-3341-41a3-c000-d88bb626efdb",
        "colab": {
          "base_uri": "https://localhost:8080/",
          "height": 241
        }
      },
      "source": [
        "from sklearn.naive_bayes import GaussianNB\n",
        "clf = GaussianNB()\n",
        "__init__(self, priors=None, var_smoothing=1e-09)[source]\n",
        "clf.fit(att_train, lab_train)\n",
        "lab_pred = clf.predict(att_test)\n",
        "print(\"GaussianNB Classifier\")\n",
        "print(\"\\nAccuracy Score: \"+ str(accuracy_score(lab_test,lab_pred)))\n",
        "print(\"\\nPrecision Score: \"+str(precision_score(lab_test,lab_pred,average='macro',zero_division=1)))\n",
        "print(\"\\nRecall: \"+str(recall_score(lab_test,lab_pred, average='macro',zero_division=1)))\n",
        "print(\"\\nF1 Score: \"+str(f1_score(lab_test,lab_pred, average='macro')))\n",
        "deepbool, default=True"
      ],
      "execution_count": 0,
      "outputs": [
        {
          "output_type": "error",
          "ename": "NameError",
          "evalue": "ignored",
          "traceback": [
            "\u001b[0;31m---------------------------------------------------------------------------\u001b[0m",
            "\u001b[0;31mNameError\u001b[0m                                 Traceback (most recent call last)",
            "\u001b[0;32m<ipython-input-54-485600829e23>\u001b[0m in \u001b[0;36m<module>\u001b[0;34m()\u001b[0m\n\u001b[1;32m      1\u001b[0m \u001b[0;32mfrom\u001b[0m \u001b[0msklearn\u001b[0m\u001b[0;34m.\u001b[0m\u001b[0mnaive_bayes\u001b[0m \u001b[0;32mimport\u001b[0m \u001b[0mGaussianNB\u001b[0m\u001b[0;34m\u001b[0m\u001b[0;34m\u001b[0m\u001b[0m\n\u001b[1;32m      2\u001b[0m \u001b[0mclf\u001b[0m \u001b[0;34m=\u001b[0m \u001b[0mGaussianNB\u001b[0m\u001b[0;34m(\u001b[0m\u001b[0;34m)\u001b[0m\u001b[0;34m\u001b[0m\u001b[0;34m\u001b[0m\u001b[0m\n\u001b[0;32m----> 3\u001b[0;31m \u001b[0m__init__\u001b[0m\u001b[0;34m(\u001b[0m\u001b[0mself\u001b[0m\u001b[0;34m,\u001b[0m \u001b[0mpriors\u001b[0m\u001b[0;34m=\u001b[0m\u001b[0;32mNone\u001b[0m\u001b[0;34m,\u001b[0m \u001b[0mvar_smoothing\u001b[0m\u001b[0;34m=\u001b[0m\u001b[0;36m1e-09\u001b[0m\u001b[0;34m)\u001b[0m\u001b[0;34m[\u001b[0m\u001b[0msource\u001b[0m\u001b[0;34m]\u001b[0m\u001b[0;34m\u001b[0m\u001b[0;34m\u001b[0m\u001b[0m\n\u001b[0m\u001b[1;32m      4\u001b[0m \u001b[0mclf\u001b[0m\u001b[0;34m.\u001b[0m\u001b[0mfit\u001b[0m\u001b[0;34m(\u001b[0m\u001b[0matt_train\u001b[0m\u001b[0;34m,\u001b[0m \u001b[0mlab_train\u001b[0m\u001b[0;34m)\u001b[0m\u001b[0;34m\u001b[0m\u001b[0;34m\u001b[0m\u001b[0m\n\u001b[1;32m      5\u001b[0m \u001b[0mlab_pred\u001b[0m \u001b[0;34m=\u001b[0m \u001b[0mclf\u001b[0m\u001b[0;34m.\u001b[0m\u001b[0mpredict\u001b[0m\u001b[0;34m(\u001b[0m\u001b[0matt_test\u001b[0m\u001b[0;34m)\u001b[0m\u001b[0;34m\u001b[0m\u001b[0;34m\u001b[0m\u001b[0m\n",
            "\u001b[0;31mNameError\u001b[0m: name '__init__' is not defined"
          ]
        }
      ]
    },
    {
      "cell_type": "code",
      "metadata": {
        "id": "tXEMlK_pL3Ns",
        "colab_type": "code",
        "outputId": "7563d63e-7bab-48b6-d92b-091ce75627e8",
        "colab": {
          "base_uri": "https://localhost:8080/",
          "height": 179
        }
      },
      "source": [
        "from sklearn.ensemble import BaggingClassifier\n",
        "clf = BaggingClassifier(tree.DecisionTreeClassifier(), n_estimators=100)\n",
        "clf.fit(att_train, lab_train)\n",
        "lab_pred = clf.predict(att_test)\n",
        "print(\"Bagging Classifier\")\n",
        "print(\"\\nAccuracy Score: \"+ str(accuracy_score(lab_test,lab_pred)))\n",
        "print(\"\\nPrecision Score: \"+str(precision_score(lab_test,lab_pred,average='macro',zero_division=1)))\n",
        "print(\"\\nRecall: \"+str(recall_score(lab_test,lab_pred, average='macro',zero_division=1)))\n",
        "print(\"\\nF1 Score: \"+str(f1_score(lab_test,lab_pred, average='macro')))"
      ],
      "execution_count": 0,
      "outputs": [
        {
          "output_type": "stream",
          "text": [
            "Bagging Classifier\n",
            "\n",
            "Accuracy Score: 0.030833744449926\n",
            "\n",
            "Precision Score: 0.4275523389539348\n",
            "\n",
            "Recall: 0.09239277271192164\n",
            "\n",
            "F1 Score: 0.014731975857412143\n"
          ],
          "name": "stdout"
        }
      ]
    },
    {
      "cell_type": "code",
      "metadata": {
        "id": "6hdDfBHYL6U_",
        "colab_type": "code",
        "outputId": "129806fc-b42f-449f-a148-b76bacddd0a5",
        "colab": {
          "base_uri": "https://localhost:8080/",
          "height": 179
        }
      },
      "source": [
        "from sklearn.ensemble import BaggingClassifier\n",
        "clf = BaggingClassifier(tree.DecisionTreeClassifier(),\n",
        "                        n_estimators=10, max_samples=1.0, max_features=1.0,\n",
        "                        bootstrap=True, bootstrap_features=False, oob_score=False,\n",
        "                        warm_start=False, n_jobs=None, random_state=None, verbose=0)\n",
        "clf.fit(att_train, lab_train)\n",
        "lab_pred = clf.predict(att_test)\n",
        "print(\"New Bagging Classifier\")\n",
        "print(\"\\nAccuracy Score: \"+ str(accuracy_score(lab_test,lab_pred)))\n",
        "print(\"\\nPrecision Score: \"+str(precision_score(lab_test,lab_pred,average='macro',zero_division=1)))\n",
        "print(\"\\nRecall: \"+str(recall_score(lab_test,lab_pred, average='macro',zero_division=1)))\n",
        "print(\"\\nF1 Score: \"+str(f1_score(lab_test,lab_pred, average='macro')))"
      ],
      "execution_count": 0,
      "outputs": [
        {
          "output_type": "stream",
          "text": [
            "New Bagging Classifier\n",
            "\n",
            "Accuracy Score: 0.031080414405525406\n",
            "\n",
            "Precision Score: 0.42644572172513046\n",
            "\n",
            "Recall: 0.08911232151169009\n",
            "\n",
            "F1 Score: 0.012451220645882813\n"
          ],
          "name": "stdout"
        }
      ]
    },
    {
      "cell_type": "code",
      "metadata": {
        "id": "_6uipFhQL--M",
        "colab_type": "code",
        "outputId": "3333cc56-06a5-4d8e-fb39-525e4f82b0ac",
        "colab": {
          "base_uri": "https://localhost:8080/",
          "height": 179
        }
      },
      "source": [
        "from sklearn.ensemble import AdaBoostClassifier\n",
        "clf = AdaBoostClassifier(tree.DecisionTreeClassifier(), n_estimators=50)\n",
        "clf.fit(att_train, lab_train)\n",
        "lab_pred = clf.predict(att_test)\n",
        "print(\"AdaBoost Classifier with Decision Tree Clssifier\")\n",
        "print(\"\\nAccuracy Score: \"+ str(accuracy_score(lab_test,lab_pred)))\n",
        "print(\"\\nPrecision Score: \"+str(precision_score(lab_test,lab_pred,average='macro',zero_division=1)))\n",
        "print(\"\\nRecall: \"+str(recall_score(lab_test,lab_pred, average='macro',zero_division=1)))\n",
        "print(\"\\nF1 Score: \"+str(f1_score(lab_test,lab_pred, average='macro')))"
      ],
      "execution_count": 0,
      "outputs": [
        {
          "output_type": "stream",
          "text": [
            "AdaBoost Classifier with Decision Tree Clssifier\n",
            "\n",
            "Accuracy Score: 0.029107054760730142\n",
            "\n",
            "Precision Score: 0.4333564053610996\n",
            "\n",
            "Recall: 0.10009333432230628\n",
            "\n",
            "F1 Score: 0.012122540250743063\n"
          ],
          "name": "stdout"
        }
      ]
    },
    {
      "cell_type": "code",
      "metadata": {
        "id": "okp1NJXeMBWd",
        "colab_type": "code",
        "outputId": "09b6f224-f7f6-47c8-b2c2-9b0bea022b7f",
        "colab": {
          "base_uri": "https://localhost:8080/",
          "height": 179
        }
      },
      "source": [
        "from sklearn import tree\n",
        "from sklearn.ensemble import AdaBoostClassifier\n",
        "clf = AdaBoostClassifier(tree.DecisionTreeClassifier(), n_estimators=50, \n",
        "                         learning_rate=1.0, algorithm='SAMME.R', random_state=None)\n",
        "clf.fit(att_train, lab_train)\n",
        "lab_pred = clf.predict(att_test)\n",
        "print(\"New AdaBoost Classifier with Decision Tree Clssifier\")\n",
        "print(\"\\nAccuracy Score: \"+ str(accuracy_score(lab_test,lab_pred)))\n",
        "print(\"\\nPrecision Score: \"+str(precision_score(lab_test,lab_pred,average='macro',zero_division=1)))\n",
        "print(\"\\nRecall: \"+str(recall_score(lab_test,lab_pred, average='macro',zero_division=1)))\n",
        "print(\"\\nF1 Score: \"+str(f1_score(lab_test,lab_pred, average='macro')))"
      ],
      "execution_count": 0,
      "outputs": [
        {
          "output_type": "stream",
          "text": [
            "New AdaBoost Classifier with Decision Tree Clssifier\n",
            "\n",
            "Accuracy Score: 0.029107054760730142\n",
            "\n",
            "Precision Score: 0.4333564053610996\n",
            "\n",
            "Recall: 0.10009333432230628\n",
            "\n",
            "F1 Score: 0.012122540250743063\n"
          ],
          "name": "stdout"
        }
      ]
    },
    {
      "cell_type": "code",
      "metadata": {
        "id": "dtZsw4K5ME2a",
        "colab_type": "code",
        "outputId": "d0568c6c-160a-49a7-bdf2-87ccc32fb843",
        "colab": {
          "base_uri": "https://localhost:8080/",
          "height": 179
        }
      },
      "source": [
        "from sklearn.linear_model import Perceptron\n",
        "clf = Perceptron(tol=1e-3, random_state=0)\n",
        "clf.fit(att_train, lab_train)\n",
        "lab_pred = clf.predict(att_test)\n",
        "print(\"Percptron Classifier\")\n",
        "print(\"\\nAccuracy Score: \"+ str(accuracy_score(lab_test,lab_pred)))\n",
        "print(\"\\nPrecision Score: \"+str(precision_score(lab_test,lab_pred,average='macro',zero_division=1)))\n",
        "print(\"\\nRecall: \"+str(recall_score(lab_test,lab_pred, average='macro',zero_division=1)))\n",
        "print(\"\\nF1 Score: \"+str(f1_score(lab_test,lab_pred, average='macro')))"
      ],
      "execution_count": 0,
      "outputs": [
        {
          "output_type": "stream",
          "text": [
            "Percptron Classifier\n",
            "\n",
            "Accuracy Score: 0.000493339911198816\n",
            "\n",
            "Precision Score: 0.9983169137907539\n",
            "\n",
            "Recall: 0.0008417508417508417\n",
            "\n",
            "F1 Score: 8.305385710417777e-07\n"
          ],
          "name": "stdout"
        }
      ]
    },
    {
      "cell_type": "code",
      "metadata": {
        "id": "j_X7ytuPMHZI",
        "colab_type": "code",
        "outputId": "ce42db63-6426-4812-ff0f-720ec8582e35",
        "colab": {
          "base_uri": "https://localhost:8080/",
          "height": 161
        }
      },
      "source": [
        "from sklearn.linear_model import Perceptron\n",
        "clf = Perceptron(penalty=None, alpha=0.0001, fit_intercept=True, \n",
        "                 max_iter=1000, tol=0.001, shuffle=True, verbose=0, \n",
        "                 eta0=1.0, n_jobs=None, random_state=0, early_stopping=False, \n",
        "                 validation_fraction=0.1, n_iter_no_change=5, class_weight=None, warm_start=False)\n",
        "clf.fit(att_train, lab_train)\n",
        "lab_pred = clf.predict(att_test)\n",
        "print(\"\\nAccuracy Score: \"+ str(accuracy_score(lab_test,lab_pred)))\n",
        "print(\"\\nPrecision Score: \"+str(precision_score(lab_test,lab_pred,average='macro',zero_division=1)))\n",
        "print(\"\\nRecall: \"+str(recall_score(lab_test,lab_pred, average='macro',zero_division=1)))\n",
        "print(\"\\nF1 Score: \"+str(f1_score(lab_test,lab_pred, average='macro')))"
      ],
      "execution_count": 0,
      "outputs": [
        {
          "output_type": "stream",
          "text": [
            "\n",
            "Accuracy Score: 0.000493339911198816\n",
            "\n",
            "Precision Score: 0.9983169137907539\n",
            "\n",
            "Recall: 0.0008417508417508417\n",
            "\n",
            "F1 Score: 8.305385710417777e-07\n"
          ],
          "name": "stdout"
        }
      ]
    },
    {
      "cell_type": "code",
      "metadata": {
        "id": "fcq3eg0eQQMH",
        "colab_type": "code",
        "outputId": "5550af7d-2ba7-4088-90b7-b3131c6fbab0",
        "colab": {
          "base_uri": "https://localhost:8080/",
          "height": 161
        }
      },
      "source": [
        "from sklearn.neural_network import MLPClassifier\n",
        "clf = MLPClassifier(solver='lbfgs', alpha=1e-5,hidden_layer_sizes=(5, 2), random_state=1)\n",
        "clf.fit(att_train, lab_train)\n",
        "MLPClassifier(alpha=1e-05, hidden_layer_sizes=(5, 2), random_state=1,solver='lbfgs')\n",
        "lab_pred = clf.predict(att_test)\n",
        "print(\"\\nAccuracy Score: \"+ str(accuracy_score(lab_test,lab_pred)))\n",
        "print(\"\\nPrecision Score: \"+str(precision_score(lab_test,lab_pred,average='macro',zero_division=1)))\n",
        "print(\"\\nRecall: \"+str(recall_score(lab_test,lab_pred, average='macro',zero_division=1)))\n",
        "print(\"\\nF1 Score: \"+str(f1_score(lab_test,lab_pred, average='macro')))"
      ],
      "execution_count": 0,
      "outputs": [
        {
          "output_type": "stream",
          "text": [
            "\n",
            "Accuracy Score: 0.002220029600394672\n",
            "\n",
            "Precision Score: 0.9991601178700339\n",
            "\n",
            "Recall: 0.0008417508417508417\n",
            "\n",
            "F1 Score: 3.729144757941214e-06\n"
          ],
          "name": "stdout"
        }
      ]
    },
    {
      "cell_type": "code",
      "metadata": {
        "id": "qZQb5SANTkQ8",
        "colab_type": "code",
        "outputId": "01c540d7-1b83-4c44-dce8-34671021f684",
        "colab": {
          "base_uri": "https://localhost:8080/",
          "height": 217
        }
      },
      "source": [
        "from sklearn.linear_model import SGDClassifier\n",
        "clf = SGDClassifier(loss=\"hinge\", penalty=None, max_iter=5)\n",
        "clf.fit(att_train, lab_train)\n",
        "SGDClassifier(max_iter=5)\n",
        "print(\"\\nAccuracy Score: \"+ str(accuracy_score(lab_test,lab_pred)))\n",
        "print(\"\\nPrecision Score: \"+str(precision_score(lab_test,lab_pred,average='macro',zero_division=1)))\n",
        "print(\"\\nRecall: \"+str(recall_score(lab_test,lab_pred, average='macro',zero_division=1)))\n",
        "print(\"\\nF1 Score: \"+str(f1_score(lab_test,lab_pred, average='macro')))"
      ],
      "execution_count": 0,
      "outputs": [
        {
          "output_type": "stream",
          "text": [
            "\n",
            "Accuracy Score: 0.002220029600394672\n",
            "\n",
            "Precision Score: 0.9991601178700339\n",
            "\n",
            "Recall: 0.0008417508417508417\n",
            "\n",
            "F1 Score: 3.729144757941214e-06\n"
          ],
          "name": "stdout"
        },
        {
          "output_type": "stream",
          "text": [
            "/usr/local/lib/python3.6/dist-packages/sklearn/linear_model/_stochastic_gradient.py:557: ConvergenceWarning: Maximum number of iteration reached before convergence. Consider increasing max_iter to improve the fit.\n",
            "  ConvergenceWarning)\n"
          ],
          "name": "stderr"
        }
      ]
    },
    {
      "cell_type": "code",
      "metadata": {
        "id": "6eFfwDckT2EM",
        "colab_type": "code",
        "outputId": "3b4e2d96-81b7-4de6-cb7e-059238d0787c",
        "colab": {
          "base_uri": "https://localhost:8080/",
          "height": 217
        }
      },
      "source": [
        "from sklearn.linear_model import SGDClassifier\n",
        "clf = SGDClassifier(penalty=None,max_iter=100)\n",
        "clf.fit(att_train, lab_train)\n",
        "print(\"\\nAccuracy Score: \"+ str(accuracy_score(lab_test,lab_pred)))\n",
        "print(\"\\nPrecision Score: \"+str(precision_score(lab_test,lab_pred,average='macro',zero_division=1)))\n",
        "print(\"\\nRecall: \"+str(recall_score(lab_test,lab_pred, average='macro',zero_division=1)))\n",
        "print(\"\\nF1 Score: \"+str(f1_score(lab_test,lab_pred, average='macro')))"
      ],
      "execution_count": 0,
      "outputs": [
        {
          "output_type": "stream",
          "text": [
            "\n",
            "Accuracy Score: 0.002220029600394672\n",
            "\n",
            "Precision Score: 0.9991601178700339\n",
            "\n",
            "Recall: 0.0008417508417508417\n",
            "\n",
            "F1 Score: 3.729144757941214e-06\n"
          ],
          "name": "stdout"
        },
        {
          "output_type": "stream",
          "text": [
            "/usr/local/lib/python3.6/dist-packages/sklearn/linear_model/_stochastic_gradient.py:557: ConvergenceWarning: Maximum number of iteration reached before convergence. Consider increasing max_iter to improve the fit.\n",
            "  ConvergenceWarning)\n"
          ],
          "name": "stderr"
        }
      ]
    },
    {
      "cell_type": "code",
      "metadata": {
        "id": "7s61BdXEfs2W",
        "colab_type": "code",
        "outputId": "ab4b4726-b7e1-471d-ca5f-64d6240bdd89",
        "colab": {
          "base_uri": "https://localhost:8080/",
          "height": 765
        }
      },
      "source": [
        "#https://scikit-learn.org/stable/auto_examples/calibration/plot_compare_calibration.html#sphx-glr-auto-examples-calibration-plot-compare-calibration-py\n",
        "from sklearn.naive_bayes import GaussianNB\n",
        "from sklearn.linear_model import LogisticRegression\n",
        "from sklearn.ensemble import RandomForestClassifier\n",
        "from sklearn.svm import LinearSVC\n",
        "from sklearn.calibration import calibration_curve\n",
        "X_train = att_train\n",
        "X_test = att_test\n",
        "y_train = lab_train\n",
        "y_test = lab_test\n",
        "lr = LogisticRegression()\n",
        "gnb = GaussianNB()\n",
        "svc = LinearSVC(C=1.0)\n",
        "rfc = RandomForestClassifier()\n",
        "# Plot calibration plots\n",
        "plt.figure(figsize=(10, 10))\n",
        "ax1 = plt.subplot2grid((3, 1), (0, 0), rowspan=2)\n",
        "ax2 = plt.subplot2grid((3, 1), (2, 0))\n",
        "ax1.plot([0, 1], [0, 1], \"k:\", label=\"Calibración perfecta\")\n",
        "for clf, name in [(lr, 'Logistic'),\n",
        "                  (gnb, 'Naive Bayes'),\n",
        "                  (svc, 'SVC'),\n",
        "                  (rfc, 'Random Forest')]:\n",
        "    clf.fit(X_train, y_train)\n",
        "    if hasattr(clf, \"predict_proba\"):\n",
        "        prob_pos = clf.predict_proba(X_test)[:, 1]\n",
        "    else: \n",
        "        prob_pos = clf.decision_function(X_test)\n",
        "        prob_pos = \\\n",
        "            (prob_pos - prob_pos.min()) / (prob_pos.max() - prob_pos.min())\n",
        "    fraction_of_positives, mean_predicted_value = \\\n",
        "        calibration_curve(y_test, prob_pos, n_bins=10)\n",
        "    ax1.plot(mean_predicted_value, fraction_of_positives, \"s-\",\n",
        "             label=\"%s\" % (name, ))\n",
        "    ax2.hist(prob_pos, range=(0, 1), bins=10, label=name,\n",
        "             histtype=\"step\", lw=2)\n",
        "ax1.set_ylabel(\"Fracciones positivas\")\n",
        "ax1.set_ylim([-0.05, 1.05])\n",
        "ax1.legend(loc=\"lower right\")\n",
        "ax1.set_title('Gráficos de calibración (curva de fiabilidad)')\n",
        "ax2.set_xlabel(\"Valor promedio predicción\")\n",
        "ax2.set_ylabel(\"Contador\")\n",
        "ax2.legend(loc=\"upper center\", ncol=2)\n",
        "plt.tight_layout()\n",
        "plt.show()"
      ],
      "execution_count": 0,
      "outputs": [
        {
          "output_type": "stream",
          "text": [
            "/usr/local/lib/python3.6/dist-packages/sklearn/svm/_base.py:947: ConvergenceWarning: Liblinear failed to converge, increase the number of iterations.\n",
            "  \"the number of iterations.\", ConvergenceWarning)\n"
          ],
          "name": "stderr"
        },
        {
          "output_type": "display_data",
          "data": {
            "image/png": "[encoded data removed]",
            "text/plain": [
              "<Figure size 720x720 with 2 Axes>"
            ]
          },
          "metadata": {
            "tags": [],
            "needs_background": "light"
          }
        }
      ]
    },
    {
      "cell_type": "code",
      "metadata": {
        "id": "M2UnKYvrawXd",
        "colab_type": "code",
        "outputId": "99487460-896b-42e9-90d5-babce3a976e7",
        "colab": {
          "base_uri": "https://localhost:8080/",
          "height": 296
        }
      },
      "source": [
        "from matplotlib import cm\n",
        "from sklearn.datasets import make_blobs\n",
        "from sklearn.naive_bayes import GaussianNB\n",
        "from sklearn.metrics import brier_score_loss\n",
        "from sklearn.calibration import CalibratedClassifierCV\n",
        "from sklearn.model_selection import train_test_split\n",
        "X_train = att_train\n",
        "X_test = att_test\n",
        "y_train = lab_train\n",
        "y_test = lab_test\n",
        "clf = GaussianNB()\n",
        "clf.fit(X_train, y_train) \n",
        "prob_pos_clf = clf.predict_proba(X_test)[:, 1]\n",
        "clf_isotonic = CalibratedClassifierCV(clf, cv=2, method='isotonic')\n",
        "clf_isotonic.fit(X_train, y_train)\n",
        "prob_pos_isotonic = clf_isotonic.predict_proba(X_test)[:, 1]\n",
        "clf_sigmoid = CalibratedClassifierCV(clf, cv=2, method='sigmoid')\n",
        "clf_sigmoid.fit(X_train, y_train)\n",
        "prob_pos_sigmoid = clf_sigmoid.predict_proba(X_test)[:, 1]\n",
        "plt.figure()\n",
        "order = np.lexsort((prob_pos_clf, ))\n",
        "plt.plot(prob_pos_clf[order], 'r', label='No calibrada (%1.3f)' % clf_score)\n",
        "plt.plot(prob_pos_isotonic[order], 'g', linewidth=3,\n",
        "         label='Calibración isotónica (%1.3f)' % clf_isotonic_score)\n",
        "plt.plot(prob_pos_sigmoid[order], 'b', linewidth=3,\n",
        "         label='Calibración sigmoidea (%1.3f)' % clf_sigmoid_score)\n",
        "plt.plot(np.linspace(0, y_test.size, 51)[1::2],\n",
        "         y_test[order].reshape(25, -1).mean(1),\n",
        "         'k', linewidth=3, label=r'Empirico')\n",
        "plt.ylim([-0.05, 1.05])\n",
        "plt.xlabel(\"Instancias ordenadas según la probabilidad pronosticada (GNB no calibrado)\")\n",
        "plt.ylabel(\"Probabilidad(y=1)\")\n",
        "plt.legend(loc=\"upper left\")\n",
        "plt.title(\"Probabilidades Gaussian Naive Bayes\")\n",
        "plt.show()"
      ],
      "execution_count": 0,
      "outputs": [
        {
          "output_type": "display_data",
          "data": {
            "image/png": "[encoded data removed]",
            "text/plain": [
              "<Figure size 432x288 with 1 Axes>"
            ]
          },
          "metadata": {
            "tags": [],
            "needs_background": "light"
          }
        }
      ]
    }
  ]
}